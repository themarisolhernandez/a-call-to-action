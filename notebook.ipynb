{
 "cells": [
  {
   "cell_type": "markdown",
   "metadata": {},
   "source": [
    "![nchs](nchs.png)"
   ]
  },
  {
   "cell_type": "markdown",
   "metadata": {},
   "source": [
    "# <center><font color='navy' size=6> HW 3: Call to Action</font></center>\n",
    "<center><font size=3><i>By Marisol Hernandez</i></font></center>  \n",
    "<center><font size=3><i>02/07/2021</i></font></center>\n",
    "\n",
    "---\n",
    "\n",
    "## <font color='navy'> Table of Contents</font>\n",
    "\n",
    "[I. Objective](#objective)  \n",
    "[II. Data Mining](#data)  \n",
    "[III. Findings](#findings)  \n",
    "[IV. Reconmmendations](#recommendations)  "
   ]
  },
  {
   "cell_type": "markdown",
   "metadata": {},
   "source": [
    "## <font color='navy'> Objective</font><a id='objective'></a>\n",
    "---\n",
    "\n",
    "A JSON file can be an extremely useful tool to easily store information in an organized, easy-to-acess manner. With the basics of data mining, users can retrieve actionable findings from any JSON file. In this notebook, I have chosen to mine a JSON file provided by the [National Center for Health Statistics](https://www.cdc.gov/nchs/index.htm). This file presents data on the 10 leading causes of death in the United States beginning in 1999. This includes data on mortality statistics, age-adjusted death rate, cause of death, and demographic. \"*Data are based on information from all resident death certificates filed in the 50 states and the District of Columbia using demographic and medical characteristics*.\"\n",
    "\n",
    "With this file, there is a lot to learn. In addition to data mining, I ultimately decided to drive my investigation with the following questions:\n",
    "- **What is the leading cause of death within the United States?**  \n",
    "- **Can we examine a trend in death rates? Say in suicide, for example.**\n",
    "- **Is it possible to examine mortality statistics by demographic?**\n",
    "\n",
    "With this information, federal and/or state officials can not only understanding how many people are dying, but more importantly why so that they can make public health decisions that could potentially improve and save lives."
   ]
  },
  {
   "cell_type": "markdown",
   "metadata": {},
   "source": [
    "## <font color='navy'> Data Mining</font><a id='data'></a>\n",
    "---\n",
    "To begin, I important the library required to parse my JSON file. I then open, read, and close the file."
   ]
  },
  {
   "cell_type": "code",
   "execution_count": 21,
   "metadata": {},
   "outputs": [],
   "source": [
    "# Import library\n",
    "import json\n",
    "import matplotlib.pyplot as plt\n",
    "\n",
    "# Open json file\n",
    "myfile = open(\"LeadingCausesofDeathUnitedStates.json\", \"r\")\n",
    "\n",
    "# Read in file\n",
    "parsed = json.load(myfile)\n",
    "# Close file\n",
    "myfile.close()"
   ]
  },
  {
   "cell_type": "markdown",
   "metadata": {},
   "source": [
    "I am interested in the data type of **`parsed`**. We know now that it is of type dictionary:"
   ]
  },
  {
   "cell_type": "code",
   "execution_count": 22,
   "metadata": {},
   "outputs": [
    {
     "name": "stdout",
     "output_type": "stream",
     "text": [
      "<class 'dict'>\n"
     ]
    }
   ],
   "source": [
    "# Print type\n",
    "print(type(parsed))"
   ]
  },
  {
   "cell_type": "markdown",
   "metadata": {},
   "source": [
    "I am interested in the total length of the dictionary. This would tell me the number of items in the dictionary. From the output, we know that it has <ins>2 items</ins>."
   ]
  },
  {
   "cell_type": "code",
   "execution_count": 23,
   "metadata": {},
   "outputs": [
    {
     "data": {
      "text/plain": [
       "2"
      ]
     },
     "execution_count": 23,
     "metadata": {},
     "output_type": "execute_result"
    }
   ],
   "source": [
    "# Print length of dictionary\n",
    "len(parsed)"
   ]
  },
  {
   "cell_type": "markdown",
   "metadata": {},
   "source": [
    "We know that a dictionary in Python is an unordered collection of data values. But unlike other data types that hold only a single value as an element, a dictionary holds a **`key : value`** pair as an element. Because the length of my dictionary is 2, I am expecting only 2 keys. We can use `.key()` method to return a list of all keys in the dictionary:"
   ]
  },
  {
   "cell_type": "code",
   "execution_count": 24,
   "metadata": {},
   "outputs": [
    {
     "data": {
      "text/plain": [
       "dict_keys(['meta', 'data'])"
      ]
     },
     "execution_count": 24,
     "metadata": {},
     "output_type": "execute_result"
    }
   ],
   "source": [
    "# Print keys of dictionary\n",
    "parsed.keys()"
   ]
  },
  {
   "cell_type": "markdown",
   "metadata": {},
   "source": [
    "### `meta` Key\n",
    "The output above returns 2 keys as expected. Let's dig into the **`meta`** key to learn a little more about it. First, I learn its data type is also a dictionary:"
   ]
  },
  {
   "cell_type": "code",
   "execution_count": 25,
   "metadata": {},
   "outputs": [
    {
     "data": {
      "text/plain": [
       "dict"
      ]
     },
     "execution_count": 25,
     "metadata": {},
     "output_type": "execute_result"
    }
   ],
   "source": [
    "type(parsed['meta'])"
   ]
  },
  {
   "cell_type": "markdown",
   "metadata": {},
   "source": [
    "Let's go ahead and print the keys:"
   ]
  },
  {
   "cell_type": "code",
   "execution_count": 26,
   "metadata": {},
   "outputs": [
    {
     "data": {
      "text/plain": [
       "dict_keys(['view'])"
      ]
     },
     "execution_count": 26,
     "metadata": {},
     "output_type": "execute_result"
    }
   ],
   "source": [
    "# Keys of meta\n",
    "parsed['meta'].keys()"
   ]
  },
  {
   "cell_type": "markdown",
   "metadata": {},
   "source": [
    "**`meta`** only has one key. Let's see what its data type is:"
   ]
  },
  {
   "cell_type": "code",
   "execution_count": 27,
   "metadata": {},
   "outputs": [
    {
     "data": {
      "text/plain": [
       "dict"
      ]
     },
     "execution_count": 27,
     "metadata": {},
     "output_type": "execute_result"
    }
   ],
   "source": [
    "# Type of view\n",
    "type(parsed['meta']['view'])"
   ]
  },
  {
   "cell_type": "markdown",
   "metadata": {},
   "source": [
    "**`view`** is also a dictionary. Before we go any further lets print its keys:"
   ]
  },
  {
   "cell_type": "code",
   "execution_count": 28,
   "metadata": {},
   "outputs": [
    {
     "data": {
      "text/plain": [
       "dict_keys(['id', 'name', 'assetType', 'attribution', 'averageRating', 'category', 'createdAt', 'description', 'displayType', 'downloadCount', 'hideFromCatalog', 'hideFromDataJson', 'indexUpdatedAt', 'licenseId', 'newBackend', 'numberOfComments', 'oid', 'provenance', 'publicationAppendEnabled', 'publicationDate', 'publicationGroup', 'publicationStage', 'rowClass', 'rowsUpdatedAt', 'rowsUpdatedBy', 'tableId', 'totalTimesRated', 'viewCount', 'viewLastModified', 'viewType', 'approvals', 'columns', 'grants', 'license', 'metadata', 'owner', 'query', 'rights', 'tableAuthor', 'tags', 'flags'])"
      ]
     },
     "execution_count": 28,
     "metadata": {},
     "output_type": "execute_result"
    }
   ],
   "source": [
    "# Keys of view\n",
    "parsed['meta']['view'].keys()"
   ]
  },
  {
   "cell_type": "markdown",
   "metadata": {},
   "source": [
    "The print out above tells us that **`meta`** gives us a little more information about the data structure and modifications of our JSON file. Though this information could be particularly useful, I am more interested in the data itself. Lets dig more into the **`data`** key instead."
   ]
  },
  {
   "cell_type": "markdown",
   "metadata": {},
   "source": [
    "### `data` Key"
   ]
  },
  {
   "cell_type": "markdown",
   "metadata": {},
   "source": [
    "First I learn that **`data`** is a list as opposed to a dictionary:"
   ]
  },
  {
   "cell_type": "code",
   "execution_count": 29,
   "metadata": {},
   "outputs": [
    {
     "data": {
      "text/plain": [
       "list"
      ]
     },
     "execution_count": 29,
     "metadata": {},
     "output_type": "execute_result"
    }
   ],
   "source": [
    "type(parsed['data'])"
   ]
  },
  {
   "cell_type": "markdown",
   "metadata": {},
   "source": [
    "It is safe to assume that **`data`** is a list containing the data records. Lets see how many data records we have by printing the length of **`data`**:"
   ]
  },
  {
   "cell_type": "code",
   "execution_count": 30,
   "metadata": {},
   "outputs": [
    {
     "data": {
      "text/plain": [
       "10868"
      ]
     },
     "execution_count": 30,
     "metadata": {},
     "output_type": "execute_result"
    }
   ],
   "source": [
    "# Length of data\n",
    "len(parsed['data'])"
   ]
  },
  {
   "cell_type": "markdown",
   "metadata": {},
   "source": [
    "The print out above tells us we're handling *10,868* observations. Lets see what the first observation looks like:"
   ]
  },
  {
   "cell_type": "code",
   "execution_count": 31,
   "metadata": {},
   "outputs": [
    {
     "data": {
      "text/plain": [
       "['row-4ziw_fype-q93g',\n",
       " '00000000-0000-0000-84F0-BE0C2CBEC77B',\n",
       " 0,\n",
       " 1571926784,\n",
       " None,\n",
       " 1571926784,\n",
       " None,\n",
       " '{ }',\n",
       " '2017',\n",
       " 'Accidents (unintentional injuries) (V01-X59,Y85-Y86)',\n",
       " 'Unintentional injuries',\n",
       " 'United States',\n",
       " '169936',\n",
       " '49.4']"
      ]
     },
     "execution_count": 31,
     "metadata": {},
     "output_type": "execute_result"
    }
   ],
   "source": [
    "parsed['data'][0]"
   ]
  },
  {
   "cell_type": "markdown",
   "metadata": {},
   "source": [
    "The first observation gives us a range of information. The only information we're interested in however is the *Year*, *113 Cause Name*, *Cause Name*, *State*, *Deaths*, and *Age-adjusted Death Rate*. In this case, we'll subset each observation so that it returns the last 6 elements within its list:"
   ]
  },
  {
   "cell_type": "code",
   "execution_count": 32,
   "metadata": {},
   "outputs": [
    {
     "data": {
      "text/plain": [
       "['2017',\n",
       " 'Accidents (unintentional injuries) (V01-X59,Y85-Y86)',\n",
       " 'Unintentional injuries',\n",
       " 'United States',\n",
       " '169936',\n",
       " '49.4']"
      ]
     },
     "execution_count": 32,
     "metadata": {},
     "output_type": "execute_result"
    }
   ],
   "source": [
    "# Last 6 elements of the first observation\n",
    "parsed['data'][0][-6:]"
   ]
  },
  {
   "cell_type": "markdown",
   "metadata": {},
   "source": [
    "Above I subset just the first element. Below I use a `for` loop to subset all observations and store it in **`data`** :"
   ]
  },
  {
   "cell_type": "code",
   "execution_count": 33,
   "metadata": {},
   "outputs": [],
   "source": [
    "# Subset all observations and store in data\n",
    "data = []\n",
    "\n",
    "for i in range(0,10868):\n",
    "    data.append(parsed['data'][i][-6:])"
   ]
  },
  {
   "cell_type": "markdown",
   "metadata": {},
   "source": [
    "I want to get a list of unique values for year. To do so, I use a `for` loop to run through each of my observations and retrieve the first element, representing the year. I then utilize `set()` and `.sort()` to retrieve a sorted list with unique values for year. We now know that our data ranges from ***1999 - 2017***."
   ]
  },
  {
   "cell_type": "code",
   "execution_count": 34,
   "metadata": {
    "scrolled": true
   },
   "outputs": [
    {
     "data": {
      "text/plain": [
       "'1999, 2000, 2001, 2002, 2003, 2004, 2005, 2006, 2007, 2008, 2009, 2010, 2011, 2012, 2013, 2014, 2015, 2016, 2017'"
      ]
     },
     "execution_count": 34,
     "metadata": {},
     "output_type": "execute_result"
    }
   ],
   "source": [
    "# Get unique values for year\n",
    "year = []\n",
    "\n",
    "for i in range(0,10868):\n",
    "    year.append(data[i][0])\n",
    "\n",
    "unique_year = list(set(year))\n",
    "unique_year.sort()\n",
    "\n",
    "', '.join(unique_year)"
   ]
  },
  {
   "cell_type": "markdown",
   "metadata": {},
   "source": [
    "Similarly, I want to get a list of unique values for state. Following the same procedure with the fourth element of each observation, I retrieve a sorted list with unique values for state. Interestingly enough, the *United States* is included within the list."
   ]
  },
  {
   "cell_type": "code",
   "execution_count": 35,
   "metadata": {},
   "outputs": [
    {
     "data": {
      "text/plain": [
       "'Alabama, Alaska, Arizona, Arkansas, California, Colorado, Connecticut, Delaware, District of Columbia, Florida, Georgia, Hawaii, Idaho, Illinois, Indiana, Iowa, Kansas, Kentucky, Louisiana, Maine, Maryland, Massachusetts, Michigan, Minnesota, Mississippi, Missouri, Montana, Nebraska, Nevada, New Hampshire, New Jersey, New Mexico, New York, North Carolina, North Dakota, Ohio, Oklahoma, Oregon, Pennsylvania, Rhode Island, South Carolina, South Dakota, Tennessee, Texas, United States, Utah, Vermont, Virginia, Washington, West Virginia, Wisconsin, Wyoming'"
      ]
     },
     "execution_count": 35,
     "metadata": {},
     "output_type": "execute_result"
    }
   ],
   "source": [
    "# Get unique values for state\n",
    "state = []\n",
    "\n",
    "for i in range(0,10868):\n",
    "    state.append(data[i][3])\n",
    "\n",
    "unique_state = list(set(state))\n",
    "unique_state.sort()\n",
    "\n",
    "', '.join(unique_state)"
   ]
  },
  {
   "cell_type": "markdown",
   "metadata": {},
   "source": [
    "Similarly, I want to get a list of unique values for cause name. Following the same procedure with the third element of each observation, I retrieve a sorted list with unique values for cause name:"
   ]
  },
  {
   "cell_type": "code",
   "execution_count": 36,
   "metadata": {},
   "outputs": [
    {
     "data": {
      "text/plain": [
       "\"All causes, Alzheimer's disease, CLRD, Cancer, Diabetes, Heart disease, Influenza and pneumonia, Kidney disease, Stroke, Suicide, Unintentional injuries\""
      ]
     },
     "execution_count": 36,
     "metadata": {},
     "output_type": "execute_result"
    }
   ],
   "source": [
    "# Get unique values for Cause Name\n",
    "accident = []\n",
    "\n",
    "for i in range(0,10868):\n",
    "    accident.append(data[i][2])\n",
    "    \n",
    "unique_acc = list(set(accident))\n",
    "unique_acc.sort()\n",
    "\n",
    "', '.join(unique_acc)"
   ]
  },
  {
   "cell_type": "markdown",
   "metadata": {},
   "source": [
    "I am not interested in *All causes* so I use `.remove()` to remove the element from my list **`unique_acc`**:"
   ]
  },
  {
   "cell_type": "code",
   "execution_count": 37,
   "metadata": {},
   "outputs": [
    {
     "data": {
      "text/plain": [
       "\"Alzheimer's disease, CLRD, Cancer, Diabetes, Heart disease, Influenza and pneumonia, Kidney disease, Stroke, Suicide, Unintentional injuries\""
      ]
     },
     "execution_count": 37,
     "metadata": {},
     "output_type": "execute_result"
    }
   ],
   "source": [
    "# Remove 'All causes'\n",
    "unique_acc.remove('All causes')\n",
    "', '.join(unique_acc)"
   ]
  },
  {
   "cell_type": "markdown",
   "metadata": {},
   "source": [
    "Next, I want to address my first research question, ***What is the leading cause of death within the United States?*** I decided that I want to make a general function that takes in two parameters, the year and state, so that it returns a bar plot with the mortality statistics for each of the leading causes. From the plot, we should then be able to identify the leading cause of death within any demographic. Within my function, I subset the data so that I only have records for the specified year and state. I then create a horizontal bar graph with the total deaths for each of the leading causes."
   ]
  },
  {
   "cell_type": "code",
   "execution_count": 38,
   "metadata": {},
   "outputs": [],
   "source": [
    "def yearly_report(year, state):\n",
    "    records = []\n",
    "    \n",
    "    for i in data:\n",
    "        if (i[0] == str(year)) & (i[3] == str(state)):\n",
    "            records.append(i)\n",
    "            \n",
    "    total_deaths = []\n",
    "    \n",
    "    for i in unique_acc:\n",
    "        for j in records:\n",
    "            if j[2] == i:\n",
    "                total_deaths.append(int(j[4]))\n",
    "\n",
    "    bar_data = {unique_acc[i] : total_deaths[i] for i in range(0, len(total_deaths))} \n",
    "    sorted_bar_data = {}\n",
    "    keys = sorted(bar_data, key=bar_data.get, reverse=False)\n",
    "    for i in keys:\n",
    "        sorted_bar_data[i] = bar_data[i]\n",
    "    \n",
    "    fig = plt.figure(figsize =(18, 10))\n",
    "    plt.barh(list(sorted_bar_data.keys()), list(sorted_bar_data.values()), align='center')\n",
    "    plt.xlabel((\"Total Deaths in \" + str(year)))\n",
    "    plt.ylabel('Cause Name')\n",
    "    plt.title(('Total Deaths by Cause Within\\nthe ' + str(state) + \" (\" + str(year) + \")\"))\n",
    "    plt.show()"
   ]
  },
  {
   "cell_type": "markdown",
   "metadata": {},
   "source": [
    "Next, I want to address my second research question, ***Can we examine a trend in death rates?*** I decided that I want to make a general function that takes in two parameters, the cause and state, so that it returns a bar plot with the yearly mortality statistics for the specified cause in the specified demographic. From the plot, we should then be able to identify if there exists a trend in the cause of interest. Within my function, I subset the data so that I only have records for the specified cause and state. I then create a horizontal bar graph with the total deaths for each year."
   ]
  },
  {
   "cell_type": "code",
   "execution_count": 39,
   "metadata": {},
   "outputs": [],
   "source": [
    "def trend_report(cause, state):\n",
    "    records = []\n",
    "    \n",
    "    for i in data:\n",
    "        if (i[2] == str(cause)) & (i[3] == str(state)):\n",
    "            records.append(i)\n",
    "    \n",
    "    total_deaths = []\n",
    "    all_years = []\n",
    "    \n",
    "    for i in records:\n",
    "        total_deaths.append(int(i[4]))\n",
    "        all_years.append(i[0])\n",
    "    \n",
    "    fig = plt.figure(figsize =(18, 10))\n",
    "    \n",
    "    plt.barh(all_years, total_deaths, align='center')\n",
    "    plt.xlabel(\"Total Deaths\")\n",
    "    plt.ylabel('Year')\n",
    "    plt.title(('Total Deaths by Suicide Within ' + str(state)))\n",
    "    plt.show()"
   ]
  },
  {
   "cell_type": "markdown",
   "metadata": {},
   "source": [
    "## <font color='navy'> Findings</font><a id='findings'></a>\n",
    "---"
   ]
  },
  {
   "cell_type": "markdown",
   "metadata": {},
   "source": [
    "#### What is the leading cause of death within the United States?\n",
    "\n",
    "Using my defined function, we can finally answer my first research question. The plot below provides us with a visualization of the mortality rates for the 10 leading causes of death in the United States from 2017. We can conclude that heart disease has claimed the first spot as the leading cause of death in the United States, closely followed by cancer."
   ]
  },
  {
   "cell_type": "code",
   "execution_count": 40,
   "metadata": {},
   "outputs": [
    {
     "data": {
      "image/png": "[encoded data removed]",
      "text/plain": [
       "<Figure size 1296x720 with 1 Axes>"
      ]
     },
     "metadata": {
      "needs_background": "light"
     },
     "output_type": "display_data"
    }
   ],
   "source": [
    "yearly_report(2017, \"United States\")"
   ]
  },
  {
   "cell_type": "markdown",
   "metadata": {},
   "source": [
    "#### Can we examine a trend in death rates? \n",
    "Using another defined question, we can go ahead an answer my second research question. I decided I wanted to investigate whether there exists a trend in suicide rates within the state of California. The plot below reveals a steady increase in suicide deaths within the state of California. To answer my research question, yes we can use the JSON file to examine a trend in death rates. In fact, my defined function enables us to examine trends either by cause or state as long as we specify."
   ]
  },
  {
   "cell_type": "code",
   "execution_count": 41,
   "metadata": {},
   "outputs": [
    {
     "data": {
      "image/png": "[encoded data removed]",
      "text/plain": [
       "<Figure size 1296x720 with 1 Axes>"
      ]
     },
     "metadata": {
      "needs_background": "light"
     },
     "output_type": "display_data"
    }
   ],
   "source": [
    "trend_report('Suicide', 'California')"
   ]
  },
  {
   "cell_type": "markdown",
   "metadata": {},
   "source": [
    "## <font color='navy'> Recommendations</font><a id='recommendations'></a>\n",
    "---\n",
    "\n",
    "National and state mortality data are important because it can help us better understand how many people are dying and, more importantly, why. With this data, we can reveal trends and emerging challenges (for example, COVID-19), track the effectiveness of interventions (for example, vaccine distributions), and help public health officials make decisions that could potentially improve and save lives.\n",
    "\n",
    "The JSON file provided by the [National Center for Health Statistics](https://www.cdc.gov/nchs/index.htm) captures all death records from across every state in the United States. For my investigation, I decided to parse through this JSON file to identify the leading causes of death within the nation, as well as identify any potential trends. With a user defined function, I concluded that heart disease is the leading cause of death within the United States. I also identified an increasing trend in suicide deaths within the state of California. With this information, public health officials should respond with the right treatment and interventions to prevent any further deaths from occuring.\n",
    "\n",
    "It is important to note, however, that my defined functions **`yearly_report`** and **`trend_report`** enables users to define their desired records. Using **`yearly_report`**, for example, I could decide to view the leading causes of death within the state of Texas from 2000 by simply specifying. So, answering my third research question, ***Is it possible to examine mortality statistics by demographic?***, yes we can. This capability can be extremely useful for researchers, clinicians, policymakers, and many others. With this capability, national and state public health officials can easily identify public health issues by demographic so that they can come up with a rapid respose that could potentially save lives."
   ]
  }
 ],
 "metadata": {
  "kernelspec": {
   "display_name": "Python 3",
   "language": "python",
   "name": "python3"
  },
  "language_info": {
   "codemirror_mode": {
    "name": "ipython",
    "version": 3
   },
   "file_extension": ".py",
   "mimetype": "text/x-python",
   "name": "python",
   "nbconvert_exporter": "python",
   "pygments_lexer": "ipython3",
   "version": "3.8.8"
  }
 },
 "nbformat": 4,
 "nbformat_minor": 4
}
